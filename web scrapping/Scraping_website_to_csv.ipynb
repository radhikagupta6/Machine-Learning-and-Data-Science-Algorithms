{
 "cells": [
  {
   "cell_type": "code",
   "execution_count": 36,
   "metadata": {},
   "outputs": [],
   "source": [
    "from bs4 import BeautifulSoup\n",
    "import requests\n",
    "import csv"
   ]
  },
  {
   "cell_type": "code",
   "execution_count": 46,
   "metadata": {},
   "outputs": [],
   "source": [
    "\n",
    "\n",
    "datas = []\n",
    "url = 'https://www.timesjobs.com/candidate/job-search.html?from=submit&actualTxtKeywords=python&searchBy=0&rdoOperator=OR&searchType=personalizedSearch&luceneResultSize=25&postWeek=60&txtKeywords=python&pDate=I&sequence=1&startPage='\n",
    "for page in range(1,10):\n",
    "    html_text = requests.get(url + str(page))\n",
    "    soup = BeautifulSoup(html_text.text, 'lxml')\n",
    "    jobs = soup.find_all('li', class_='clearfix job-bx wht-shd-bx')\n",
    "    for job in jobs:\n",
    "        published_date = job.find('span', class_ = 'sim-posted').span.text\n",
    "        if 'few' in published_date:\n",
    "            company_name = job.find('h3', class_ ='joblist-comp-name').text.replace(' ', '').replace('\\n', '').replace('\\r','')\n",
    "            skills = job.find('span', class_= 'srp-skills').text.replace(' ', '').replace('\\n', '').replace('\\r','')\n",
    "            datas.append([company_name, skills, published_date])\n",
    "\n",
    "\n",
    "            \n",
    "with open('out.csv', 'w', newline='') as file:\n",
    "    writer = csv.writer(file)\n",
    "    headers = ['Company Name','Skills','Published Date']\n",
    "    writer.writerow(headers)\n",
    "    for data in datas:\n",
    "        writer.writerow(data)"
   ]
  },
  {
   "cell_type": "code",
   "execution_count": null,
   "metadata": {},
   "outputs": [],
   "source": []
  }
 ],
 "metadata": {
  "kernelspec": {
   "display_name": "Python 3.8.5 64-bit",
   "language": "python",
   "name": "python38564bit8b4ea7f2e5834a218e2df2a89780f549"
  },
  "language_info": {
   "codemirror_mode": {
    "name": "ipython",
    "version": 3
   },
   "file_extension": ".py",
   "mimetype": "text/x-python",
   "name": "python",
   "nbconvert_exporter": "python",
   "pygments_lexer": "ipython3",
   "version": "3.8.5"
  }
 },
 "nbformat": 4,
 "nbformat_minor": 4
}
